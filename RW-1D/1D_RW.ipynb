{
  "nbformat": 4,
  "nbformat_minor": 0,
  "metadata": {
    "colab": {
      "name": "1D-RW.ipynb",
      "provenance": []
    },
    "kernelspec": {
      "name": "python3",
      "display_name": "Python 3"
    },
    "language_info": {
      "name": "python"
    }
  },
  "cells": [
    {
      "cell_type": "markdown",
      "metadata": {
        "id": "e2gZ6hlj82fL"
      },
      "source": [
        "# First Simulation"
      ]
    },
    {
      "cell_type": "markdown",
      "metadata": {
        "id": "UkIdtS1h85jj"
      },
      "source": [
        "In the first simulation of the course we are requested to write a code for a 1D Random Walk with probability $p$ to take one step of length $l$ to one specific side. The algorithm is supposed to take $M$ steps for $N$ trajectories."
      ]
    },
    {
      "cell_type": "markdown",
      "metadata": {
        "id": "TAx9G3Vy9X9D"
      },
      "source": [
        "First we import the libraries"
      ]
    },
    {
      "cell_type": "code",
      "metadata": {
        "id": "Ammk9huS8zvj"
      },
      "source": [
        "import numpy as np\n",
        "import matplotlib.pyplot as plt\n",
        "from sklearn.neighbors import KernelDensity\n",
        "from scipy.optimize import curve_fit\n",
        "import random\n",
        "import time"
      ],
      "execution_count": null,
      "outputs": []
    },
    {
      "cell_type": "markdown",
      "metadata": {
        "id": "C_7wgFMU9bPo"
      },
      "source": [
        "Here we introduce some useful functions we will use for our random walk and final results to look better."
      ]
    },
    {
      "cell_type": "code",
      "metadata": {
        "id": "e-KKw-AC9fEg"
      },
      "source": [
        "# Function to write time in a fancy way\n",
        "def fancy_t(time):\n",
        "    if time/3600 > 1:\n",
        "        hores = int(time/3600)\n",
        "        minuts = int((time/3600 - hores)*3600/60)\n",
        "        segons = int((time/60 - minuts)*60*100)/100\n",
        "        return str(hores)+' hores '+str(minuts)+' min '+str(segons)+' s'\n",
        "    elif time/60>1:\n",
        "        minuts = int(time/60)\n",
        "        segons = int((time/60 - minuts)*60*100)/100\n",
        "        return str(minuts)+' min '+str(segons)+' s'\n",
        "    else:\n",
        "        return str(int(time*100)/100)+' s'\n",
        "\n",
        "# Function to calculate the Gaussian with constants a, b, and c\n",
        "def gaussian(x, a, b, c):\n",
        "    return a*np.exp(-np.power(x - b, 2)/(2*c)) \n",
        "\n",
        "# Function to round number \"valor\" so that it has \"num_xs\" decimals\n",
        "def xs(valor, num_xs):\n",
        "    num = valor*10**(num_xs)\n",
        "    if num < 0:\n",
        "        return -int(num)/10**(num_xs)\n",
        "    else:\n",
        "        return int(num)/10**(num_xs)\n",
        "    "
      ],
      "execution_count": null,
      "outputs": []
    },
    {
      "cell_type": "markdown",
      "metadata": {
        "id": "7ZQIq4HL9ows"
      },
      "source": [
        "The following cell contains the whole Random Walk simulation, but remember that it won't work unless you have previously imported the libraries."
      ]
    },
    {
      "cell_type": "code",
      "metadata": {
        "id": "zYMUaBIQ90-Q"
      },
      "source": [
        "def rw_1d(l, p, N, M): #p (probability of walking +l) N (trajectories) M(steps)\n",
        "    camins = np.zeros((N,M))\n",
        "    mitjana = [0]\n",
        "    for i in range(1,M):\n",
        "        step_mean = mitjana[i-1]\n",
        "        for j in range(N):\n",
        "            r = random.random()\n",
        "            if r <= p: \n",
        "                camins[j][i] = camins[j][i-1] + l\n",
        "                step_mean += 1/N\n",
        "            else: \n",
        "                camins[j][i] = camins[j][i-1] - l\n",
        "                step_mean -= 1/N\n",
        "        mitjana.append(step_mean)\n",
        "    dada_h = [camins[i][-1] for i in range(N)]\n",
        "    x = np.linspace(min(dada_h)*1.05,max(dada_h)*1.05, int(M*1.05))[:, np.newaxis]\n",
        "    x2 = np.linspace(min(dada_h)*1.05,max(dada_h)*1.05, int(M*1.05))\n",
        "    fig, axs = plt.subplots(1, 2, sharey = True, gridspec_kw={'width_ratios': [3, 1]}, figsize=(10,5))\n",
        "    fig.subplots_adjust(wspace=0)\n",
        "    for j in range(N):\n",
        "        axs[0].plot(range(M), camins[j][:], color = 'grey', linewidth = .7, alpha = 0.7, drawstyle = 'steps-pre')\n",
        "    axs[0].plot(range(M), mitjana, color = 'r', linewidth = .8, drawstyle = 'steps-pre', label = 'Mean position per step')\n",
        "    axs[0].set_ylabel('Position', fontsize=8)\n",
        "    axs[0].set_xlabel('Steps', fontsize=8)\n",
        "    axs[0].set_title('Positions of the 1D-RW', fontsize=10)\n",
        "    for tick in axs[0].xaxis.get_major_ticks():\n",
        "        tick.label.set_fontsize(7)\n",
        "    hist, bin_edges = np.histogram(dada_h, bins=int((max(dada_h)-min(dada_h))*.5), \n",
        "                                   range = (min(dada_h),max(dada_h)))\n",
        "    axs[1].hist(dada_h, bins=int((max(dada_h)-min(dada_h))*.5), range = (min(dada_h),max(dada_h)), \n",
        "                density=True, color = 'grey', orientation = 'horizontal')\n",
        "    dada_h = np.array(dada_h)\n",
        "    re_dada = dada_h.reshape(-1, 1)\n",
        "    kd_dada_h = KernelDensity(kernel = 'gaussian', bandwidth = 5).fit(re_dada)\n",
        "    kd_vals_dada_h = np.exp(kd_dada_h.score_samples(x))\n",
        "    axs[1].plot(kd_vals_dada_h, x, color='orange', label= 'Probability Distribution')\n",
        "    axs[1].legend(loc = 'lower right', prop={'size': 6})\n",
        "    pars, cov = curve_fit(f=gaussian, xdata=x2, ydata=kd_vals_dada_h, \n",
        "                          p0=[1/np.sqrt(2*np.pi * l**2 * (M - (2*p-1)**2)), M*(2*p - 1)*l, l**2 * M - (2*p-1)**2], \n",
        "                          bounds=(-np.inf, np.inf))\n",
        "    stdevs = np.sqrt(np.diag(cov))\n",
        "    print('val_num')\n",
        "    for i in range(len(pars)):\n",
        "        print('n.',i,')',xs(pars[i],5),'+/-',xs(stdevs[i],7))\n",
        "    print('val_teo \\n', 't. 0) ',xs(1/np.sqrt(2*np.pi * l**2 * (M - (2*p-1)**2)),4), \n",
        "          '\\n t. 1) ', xs(M*(2*p - 1)*l,2), \n",
        "          '\\n t. 2) ',xs(l**2 * M - (2*p-1)**2, 2))\n",
        "    axs[1].set_xlabel('Amount of trajectories', fontsize=8)\n",
        "    axs[1].set_title('Distribution of final positions', fontsize=10)\n",
        "    for tick in axs[1].xaxis.get_major_ticks():\n",
        "        tick.label.set_fontsize(7)\n",
        "    #fig.suptitle('N='+str(N)+'   M='+str(M)+'   p='+str(p))\n",
        "    plt.savefig('rw_1d_'+str(N)+'_'+str(M)+'_'+str(p)+'_total_fig.pdf')\n",
        "    plt.figure()\n",
        "    plt.axis('off')\n",
        "    plt.text(-.1, .9, r'Distribution: $\\rho (x)=a \\cdot e^\\frac{(x-b)^2}{2c}$')\n",
        "    plt.text(-.1,.7, 'Values from the numerical simulation: ')\n",
        "    plt.text(-.1,.6, r'$a=$'+str(xs(pars[0],6))+r'$\\pm$'+str(xs(stdevs[0],6))+'       '+r'$b=$'+str(xs(pars[1],3))+r'$\\pm$'+str(xs(stdevs[1],3))+'       '+r'$c=$'+str(xs(pars[2],2))+r'$\\pm$'+str(xs(stdevs[2],2)))\n",
        "    plt.text(-.1,.4, 'Values from the theoretical approach: ')\n",
        "    plt.text(-.1,.3, r'$b=\\langle x \\rangle = (2p-1)Ml=$'+str(xs(M*(2*p - 1)*l,2))+'       '+r'$c=\\sigma^2 = l^2[M-(2p-1)^2]=$'+str(xs(l**2 * M - (2*p-1)**2, 2)))\n",
        "    plt.text(-.1,.2, r'$a=\\frac{1}{\\sqrt{2\\pi c}}=$'+str(xs(1/np.sqrt(2*np.pi * l**2 * (M - (2*p-1)**2)),3)))\n",
        "    plt.savefig('rw_1d_'+str(N)+'_'+str(M)+'_'+str(p)+'_distr_params.pdf')\n"
      ],
      "execution_count": null,
      "outputs": []
    },
    {
      "cell_type": "markdown",
      "metadata": {
        "id": "JR_9NyhJ95hH"
      },
      "source": [
        "To see an example of how the code works you can try to execute the following:"
      ]
    },
    {
      "cell_type": "code",
      "metadata": {
        "id": "DrL28Ft3-Abh"
      },
      "source": [
        "tic = time.perf_counter()\n",
        "l,p,N,M = 1, 0.6, 3000, 300 #data to plot an example\n",
        "rw_1d(l,p,N,M)\n",
        "toc = time.perf_counter()\n",
        "print('Time compiling:', fancy_t(toc-tic))"
      ],
      "execution_count": null,
      "outputs": []
    }
  ]
}
